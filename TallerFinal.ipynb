{
  "nbformat": 4,
  "nbformat_minor": 0,
  "metadata": {
    "colab": {
      "name": "TallerF.ipynb",
      "provenance": [],
      "authorship_tag": "ABX9TyPvDM0tOZuMj0NNmMP/KEJq",
      "include_colab_link": true
    },
    "kernelspec": {
      "name": "python3",
      "display_name": "Python 3"
    }
  },
  "cells": [
    {
      "cell_type": "markdown",
      "metadata": {
        "id": "view-in-github",
        "colab_type": "text"
      },
      "source": [
        "<a href=\"https://colab.research.google.com/github/jfmartineb/ST0245-008/blob/master/TallerFinal.ipynb\" target=\"_parent\"><img src=\"https://colab.research.google.com/assets/colab-badge.svg\" alt=\"Open In Colab\"/></a>"
      ]
    },
    {
      "cell_type": "markdown",
      "metadata": {
        "id": "pBhMKZC-WdHm"
      },
      "source": [
        "# Taller final\n",
        "Daniel Gonzalez y Juan Felipe Martínez"
      ]
    },
    {
      "cell_type": "markdown",
      "metadata": {
        "id": "hsyp_APlCWav"
      },
      "source": [
        "Librerías necesarias"
      ]
    },
    {
      "cell_type": "code",
      "metadata": {
        "id": "1AOZIQcinL4M"
      },
      "source": [
        "try:\n",
        "  import time\n",
        "except:\n",
        "  !pip install time\n",
        "  import time"
      ],
      "execution_count": 78,
      "outputs": []
    },
    {
      "cell_type": "markdown",
      "metadata": {
        "id": "3cBqU34vCJYI"
      },
      "source": [
        "Código de árboles que se usará más adelante"
      ]
    },
    {
      "cell_type": "code",
      "metadata": {
        "id": "NLNRWB5fCH-6"
      },
      "source": [
        "class node():\n",
        "    def __init__(self, dato):\n",
        "        self.left = None\n",
        "        self.right = None\n",
        "        self.dato = dato\n",
        "\n",
        "class arbol():\n",
        "    def __init__(self):\n",
        "        self.root = None\n",
        "        \n",
        "    def insert(self, a, dato):\n",
        "        if a == None:\n",
        "            a = node(dato)\n",
        "        elif a != dato:\n",
        "            d = a.dato\n",
        "            if dato < d:\n",
        "                a.left = self.insert(a.left, dato)\n",
        "            elif dato > d:\n",
        "                a.right = self.insert(a.right, dato)\n",
        "        return a\n",
        "\n",
        "    def inorder(self, a):\n",
        "        if a == None:\n",
        "            return None\n",
        "        else:\n",
        "            self.inorder(a.left)\n",
        "            print(a.dato)\n",
        "            self.inorder(a.right)\n",
        "\n",
        "    def preorder(self, a):\n",
        "        if a == None:\n",
        "            return None\n",
        "        else:\n",
        "            print(a.dato)\n",
        "            self.preorder(a.left)\n",
        "            self.preorder(a.right)\n",
        "\n",
        "    def postorder(self, a):\n",
        "        if a == None:\n",
        "            return None\n",
        "        else:\n",
        "            self.postorder(a.left)\n",
        "            self.postorder(a.right)\n",
        "            print(a.dato)\n",
        "\n",
        "    def buscar(self, dato, a):\n",
        "        if a == None:\n",
        "            return None\n",
        "        else:\n",
        "            if dato == a.dato:\n",
        "                return a.dato\n",
        "            else:\n",
        "                if dato < a.dato:\n",
        "                    return self.buscar(dato, a.left)\n",
        "                else:\n",
        "                    return self.buscar(dato, a.right)"
      ],
      "execution_count": null,
      "outputs": []
    },
    {
      "cell_type": "markdown",
      "metadata": {
        "id": "okGmy5-eUHOq"
      },
      "source": [
        "Punto 1"
      ]
    },
    {
      "cell_type": "markdown",
      "metadata": {
        "id": "CEjTL7NtUIkm"
      },
      "source": [
        "Eso es falso, ya que las listas enlazadas se pueden hacer como clases enpython, dondese fuardan dos atributos, un apuntador hacia un nodo y el valor del nodo que puede ser cualquier tipo de variable (o al menos se puede realizar de esta manera si se realiza en python)."
      ]
    },
    {
      "cell_type": "markdown",
      "metadata": {
        "id": "Abqkhmp0UY4B"
      },
      "source": [
        "Punto 2"
      ]
    },
    {
      "cell_type": "markdown",
      "metadata": {
        "id": "OqH7F3tLUaLB"
      },
      "source": [
        "Lo que se puede es recorrer la pila e ir sumando todos los valores en una variable auxiliar, luego esta se divide por el npumero total de elementos en la pila para obtener el promedio."
      ]
    },
    {
      "cell_type": "markdown",
      "metadata": {
        "id": "_u-D0nPTvkew"
      },
      "source": [
        "Punto 3"
      ]
    },
    {
      "cell_type": "markdown",
      "metadata": {
        "id": "Fh4J1CKJ_-Jw"
      },
      "source": [
        "3.1 El árbol entregado queda de la siguiente manera: \n",
        "![image.png](data:image/png;base64,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)"
      ]
    },
    {
      "cell_type": "markdown",
      "metadata": {
        "id": "nIf_p8TrAE06"
      },
      "source": [
        "3.2 El recorrido del árbol en post-orden es igual a :\n",
        "\n",
        "IBAEDLFCHJKMG"
      ]
    },
    {
      "cell_type": "code",
      "metadata": {
        "id": "Ba2MbTlEATXC"
      },
      "source": [
        "#3.3\n",
        "def postorden(preorden, inorden):\n",
        "  pass\n"
      ],
      "execution_count": null,
      "outputs": []
    },
    {
      "cell_type": "markdown",
      "metadata": {
        "id": "VqjGJWfnWtdb"
      },
      "source": [
        "Punto 4"
      ]
    },
    {
      "cell_type": "code",
      "metadata": {
        "id": "QAp3TooTbmUL"
      },
      "source": [
        "def nuggets2(num):\n",
        "  cond = False\n",
        "  mas = \"\"\n",
        "  mens20 = \"\"\n",
        "  if num % 20 == 0:\n",
        "    print(\"%d caja(s) de 20\" %(num//20))\n",
        "  elif num // 20 > 0:\n",
        "    mens20 = str(num//20) + \" cajas de 20\"\n",
        "    mas = \"más\"\n",
        "    nuggets3(num - (num//20)*20, mas, mens20)\n",
        "    nuggets3(num)\n",
        "  else:\n",
        "    nuggets3(num)\n",
        "\n",
        "def nuggets3(num, mas = \"\", mens20 = \"\"):\n",
        "  cond = False\n",
        "  if num % 6 == 0:\n",
        "    print(mens20,mas,\"%d caja(s) de 6\" %(num // 6))\n",
        "    cond = True\n",
        "  if num % 9 == 0:\n",
        "    if cond:\n",
        "      print(\"O, \", end = \"\")\n",
        "    print(mens20, mas,\"%d caja(s) de 9\" %(num // 9))\n",
        "    cond = True\n",
        "  if num // 6 > 0 and (num - (num//6)*6)//9 > 0:\n",
        "    if cond:\n",
        "      print(\"O, \", end = \"\")\n",
        "    print(mens20, mas, \"%d caja(s) de 6 y %d caja(s) de 9\" %(num//6, (num - (num//6)*6)//9))\n",
        "    cond = True\n",
        "  if num // 9 > 0 and (num - (num//9)*9)//6 > 0:\n",
        "    if cond:\n",
        "      print(\"O, \", end = \"\")\n",
        "    print(mens20, mas, \"%d caja(s) de 6 y %d caja(s) de 9\" %((num - (num//9)*9)//6, num//9))\n",
        "    cond = True\n",
        "  if not cond:\n",
        "    print(\"es imposible comprar %d nuggets\" %(num))"
      ],
      "execution_count": 1,
      "outputs": []
    },
    {
      "cell_type": "code",
      "metadata": {
        "id": "hcQZNZOZY8LI",
        "outputId": "9edb45eb-8714-483d-ddab-546555254fd0",
        "colab": {
          "base_uri": "https://localhost:8080/"
        }
      },
      "source": [
        "#Linea para probar el código\n",
        "nuggets2(40)"
      ],
      "execution_count": 2,
      "outputs": [
        {
          "output_type": "stream",
          "text": [
            "2 caja(s) de 20\n"
          ],
          "name": "stdout"
        }
      ]
    },
    {
      "cell_type": "markdown",
      "metadata": {
        "id": "Hx9xD3n-nWkB"
      },
      "source": [
        "Punto 5"
      ]
    },
    {
      "cell_type": "code",
      "metadata": {
        "id": "i1q5s6GZnYmf"
      },
      "source": [
        "class Punto5():\n",
        "  def __init__(self, n):\n",
        "    self.n = n\n",
        "\n",
        "  def clases(self):\n",
        "    lista_t = []\n",
        "    t = time.time()\n",
        "    for i in range(self.n):\n",
        "      if i%2 == 0:\n",
        "        print(i)\n",
        "    lista_t.append(time.time() - t)\n",
        "\n",
        "    t2 = time.time()\n",
        "    for i in range(self.n):\n",
        "      if i%2 == 0:\n",
        "        print(i)\n",
        "    for i in range(self.n):\n",
        "      if i%2 != 0:\n",
        "        print(i)\n",
        "    lista_t.append(time.time() - t2)\n",
        "\n",
        "    t3 = time.time()\n",
        "    i = 1\n",
        "    while i < self.n:\n",
        "      print(i)\n",
        "      i = i*2\n",
        "    lista_t.append(time.time() - t3)\n",
        "\n",
        "    t4 = time.time()\n",
        "    for i in range(self.n):\n",
        "      j = 1\n",
        "      while j < self.n:\n",
        "        print(j)\n",
        "        j = j*2\n",
        "    lista_t.append(time.time() - t4)\n",
        "\n",
        "    t5 = time.time()\n",
        "    n1 = 1000\n",
        "    if n1%2 == 0:\n",
        "      print(\"par\")\n",
        "    else:\n",
        "      print(\"impar\")\n",
        "    lista_t.append(time.time() - t5)\n",
        "\n",
        "    print(\"\\nCon N = %d\\n\" %(self.n))\n",
        "    for i in range(5):\n",
        "      print(\"El 5.%d tomó %.5f segundos\" %(i+1,lista_t[i]))"
      ],
      "execution_count": 91,
      "outputs": []
    },
    {
      "cell_type": "code",
      "metadata": {
        "id": "0Vg7nskaqsS4"
      },
      "source": [
        "#Se puede hacer con cualquier N, simplemente se cambia el parametro del constructor\n",
        "prueba = Punto5(100000)\n",
        "prueba.clases()"
      ],
      "execution_count": null,
      "outputs": []
    },
    {
      "cell_type": "markdown",
      "metadata": {
        "id": "UJAB6B9OTpJq"
      },
      "source": [
        "Punto 6"
      ]
    },
    {
      "cell_type": "markdown",
      "metadata": {
        "id": "uACUPPzEuq2x"
      },
      "source": [
        "Punto 7"
      ]
    },
    {
      "cell_type": "code",
      "metadata": {
        "id": "knGkyyfDuxT4"
      },
      "source": [
        "def altura(raiz):\n",
        "  "
      ],
      "execution_count": null,
      "outputs": []
    },
    {
      "cell_type": "code",
      "metadata": {
        "id": "gpBkV9PPutMM"
      },
      "source": [
        "class Alumno:\n",
        "    def __init__(self, nombre, edad, nota):\n",
        "        self.nombre = nombre\n",
        "        self.edad = edad\n",
        "        self.nota = nota\n",
        "    def __str__(self):\n",
        "       return self.nombre+' - '+str(self.edad)+' años :'+str(self.nota)\n",
        "       \n",
        "class Nodo:\n",
        "    def __init__(self, datos):\n",
        "        self.datos = datos\n",
        "        self.siguiente = None\n",
        "\n",
        "primero = None\n",
        "alumno = Alumno('Alex', 30, 8.9)\n",
        "nodo = Nodo(alumno)\n",
        "nodo.siguiente = primero\n",
        "primero = nodo\n",
        "alumno = Alumno('Pepe', 27, 3.7)\n",
        "nodo = Nodo(alumno)\n",
        "nodo.siguiente = primero\n",
        "primero = nodo\n",
        "n = primero\n",
        "while n != None:\n",
        " print(n.datos)\n",
        " n = n.siguiente"
      ],
      "execution_count": null,
      "outputs": []
    },
    {
      "cell_type": "markdown",
      "metadata": {
        "id": "giCW_G_jTr3T"
      },
      "source": [
        "Punto 8"
      ]
    }
  ]
}